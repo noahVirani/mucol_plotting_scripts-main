{
 "cells": [
  {
   "cell_type": "code",
   "execution_count": 13,
   "metadata": {},
   "outputs": [],
   "source": [
    "# Import relevant packages\n",
    "#hows it going\n",
    "import uproot # conda install -c conda-forge uproot\n",
    "import vector # conda install -c conda-forge vector\n",
    "import awkward as ak\n",
    "import numpy as np\n",
    "import matplotlib.pyplot as plt\n",
    "import math\n",
    "plt.style.use('seaborn-v0_8-colorblind')"
   ]
  },
  {
   "cell_type": "code",
   "execution_count": 16,
   "metadata": {},
   "outputs": [
    {
     "ename": "FileNotFoundError",
     "evalue": "[Errno 2] No such file or directory: 'outputOldDataBIB.json'\n\nThis error occurred while calling\n\n    ak.from_json(\n        PosixPath-instance\n    )",
     "output_type": "error",
     "traceback": [
      "\u001b[0;31m---------------------------------------------------------------------------\u001b[0m",
      "\u001b[0;31mFileNotFoundError\u001b[0m                         Traceback (most recent call last)",
      "File \u001b[0;32m~/Library/Python/3.9/lib/python/site-packages/awkward/_dispatch.py:20\u001b[0m, in \u001b[0;36mhigh_level_function.<locals>.dispatch\u001b[0;34m(*args, **kwargs)\u001b[0m\n\u001b[1;32m     19\u001b[0m \u001b[39mwith\u001b[39;00m OperationErrorContext(\u001b[39mf\u001b[39m\u001b[39m\"\u001b[39m\u001b[39mak.\u001b[39m\u001b[39m{\u001b[39;00mfunc\u001b[39m.\u001b[39m\u001b[39m__qualname__\u001b[39m\u001b[39m}\u001b[39;00m\u001b[39m\"\u001b[39m, args, kwargs):\n\u001b[0;32m---> 20\u001b[0m     gen_or_result \u001b[39m=\u001b[39m func(\u001b[39m*\u001b[39;49margs, \u001b[39m*\u001b[39;49m\u001b[39m*\u001b[39;49mkwargs)\n\u001b[1;32m     21\u001b[0m     \u001b[39mif\u001b[39;00m isgenerator(gen_or_result):\n",
      "File \u001b[0;32m~/Library/Python/3.9/lib/python/site-packages/awkward/operations/ak_from_json.py:325\u001b[0m, in \u001b[0;36mfrom_json\u001b[0;34m(source, line_delimited, schema, nan_string, posinf_string, neginf_string, complex_record_fields, buffersize, initial, resize, highlevel, behavior)\u001b[0m\n\u001b[1;32m    324\u001b[0m \u001b[39mif\u001b[39;00m schema \u001b[39mis\u001b[39;00m \u001b[39mNone\u001b[39;00m:\n\u001b[0;32m--> 325\u001b[0m     \u001b[39mreturn\u001b[39;00m _no_schema(\n\u001b[1;32m    326\u001b[0m         source,\n\u001b[1;32m    327\u001b[0m         line_delimited,\n\u001b[1;32m    328\u001b[0m         nan_string,\n\u001b[1;32m    329\u001b[0m         posinf_string,\n\u001b[1;32m    330\u001b[0m         neginf_string,\n\u001b[1;32m    331\u001b[0m         complex_record_fields,\n\u001b[1;32m    332\u001b[0m         buffersize,\n\u001b[1;32m    333\u001b[0m         initial,\n\u001b[1;32m    334\u001b[0m         resize,\n\u001b[1;32m    335\u001b[0m         highlevel,\n\u001b[1;32m    336\u001b[0m         behavior,\n\u001b[1;32m    337\u001b[0m     )\n\u001b[1;32m    339\u001b[0m \u001b[39melse\u001b[39;00m:\n",
      "File \u001b[0;32m~/Library/Python/3.9/lib/python/site-packages/awkward/operations/ak_from_json.py:464\u001b[0m, in \u001b[0;36m_no_schema\u001b[0;34m(source, line_delimited, nan_string, posinf_string, neginf_string, complex_record_fields, buffersize, initial, resize, highlevel, behavior)\u001b[0m\n\u001b[1;32m    462\u001b[0m read_one \u001b[39m=\u001b[39m \u001b[39mnot\u001b[39;00m line_delimited\n\u001b[0;32m--> 464\u001b[0m \u001b[39mwith\u001b[39;00m _get_reader(source)() \u001b[39mas\u001b[39;00m obj:\n\u001b[1;32m    465\u001b[0m     \u001b[39mtry\u001b[39;00m:\n",
      "File \u001b[0;32m~/Library/Python/3.9/lib/python/site-packages/awkward/operations/ak_from_json.py:396\u001b[0m, in \u001b[0;36m_get_reader.<locals>.<lambda>\u001b[0;34m()\u001b[0m\n\u001b[1;32m    395\u001b[0m \u001b[39mif\u001b[39;00m parsed_url\u001b[39m.\u001b[39mscheme \u001b[39m==\u001b[39m \u001b[39m\"\u001b[39m\u001b[39m\"\u001b[39m \u001b[39mor\u001b[39;00m parsed_url\u001b[39m.\u001b[39mnetloc \u001b[39m==\u001b[39m \u001b[39m\"\u001b[39m\u001b[39m\"\u001b[39m:\n\u001b[0;32m--> 396\u001b[0m     \u001b[39mreturn\u001b[39;00m \u001b[39mlambda\u001b[39;00m: \u001b[39mopen\u001b[39;49m(source, \u001b[39m\"\u001b[39;49m\u001b[39mrb\u001b[39;49m\u001b[39m\"\u001b[39;49m)  \u001b[39m# pylint: disable=R1732\u001b[39;00m\n\u001b[1;32m    397\u001b[0m \u001b[39melse\u001b[39;00m:\n",
      "\u001b[0;31mFileNotFoundError\u001b[0m: [Errno 2] No such file or directory: 'outputOldDataBIB.json'",
      "\nThe above exception was the direct cause of the following exception:\n",
      "\u001b[0;31mFileNotFoundError\u001b[0m                         Traceback (most recent call last)",
      "Cell \u001b[0;32mIn[16], line 4\u001b[0m\n\u001b[1;32m      2\u001b[0m \u001b[39mimport\u001b[39;00m \u001b[39mawkward\u001b[39;00m \u001b[39mas\u001b[39;00m \u001b[39mak\u001b[39;00m\n\u001b[1;32m      3\u001b[0m \u001b[39mimport\u001b[39;00m \u001b[39mpathlib\u001b[39;00m\n\u001b[0;32m----> 4\u001b[0m al \u001b[39m=\u001b[39m ak\u001b[39m.\u001b[39;49mfrom_json(pathlib\u001b[39m.\u001b[39;49mPath(\u001b[39m\"\u001b[39;49m\u001b[39moutputOldDataBIB.json\u001b[39;49m\u001b[39m\"\u001b[39;49m))\n",
      "File \u001b[0;32m~/Library/Python/3.9/lib/python/site-packages/awkward/_dispatch.py:51\u001b[0m, in \u001b[0;36mhigh_level_function.<locals>.dispatch\u001b[0;34m(*args, **kwargs)\u001b[0m\n\u001b[1;32m     46\u001b[0m     \u001b[39melse\u001b[39;00m:\n\u001b[1;32m     47\u001b[0m         \u001b[39mraise\u001b[39;00m \u001b[39mAssertionError\u001b[39;00m(\n\u001b[1;32m     48\u001b[0m             \u001b[39m\"\u001b[39m\u001b[39mhigh-level functions should only implement a single yield statement\u001b[39m\u001b[39m\"\u001b[39m\n\u001b[1;32m     49\u001b[0m         )\n\u001b[0;32m---> 51\u001b[0m \u001b[39mreturn\u001b[39;00m gen_or_result\n",
      "File \u001b[0;32m~/Library/Python/3.9/lib/python/site-packages/awkward/_errors.py:63\u001b[0m, in \u001b[0;36mErrorContext.__exit__\u001b[0;34m(self, exception_type, exception_value, traceback)\u001b[0m\n\u001b[1;32m     60\u001b[0m \u001b[39mtry\u001b[39;00m:\n\u001b[1;32m     61\u001b[0m     \u001b[39m# Handle caught exception\u001b[39;00m\n\u001b[1;32m     62\u001b[0m     \u001b[39mif\u001b[39;00m exception_type \u001b[39mis\u001b[39;00m \u001b[39mnot\u001b[39;00m \u001b[39mNone\u001b[39;00m \u001b[39mand\u001b[39;00m \u001b[39mself\u001b[39m\u001b[39m.\u001b[39mprimary() \u001b[39mis\u001b[39;00m \u001b[39mself\u001b[39m:\n\u001b[0;32m---> 63\u001b[0m         \u001b[39mself\u001b[39;49m\u001b[39m.\u001b[39;49mhandle_exception(exception_type, exception_value)\n\u001b[1;32m     64\u001b[0m \u001b[39mfinally\u001b[39;00m:\n\u001b[1;32m     65\u001b[0m     \u001b[39m# `_kwargs` may hold cyclic references, that we really want to avoid\u001b[39;00m\n\u001b[1;32m     66\u001b[0m     \u001b[39m# as this can lead to large buffers remaining in memory for longer than absolutely necessary\u001b[39;00m\n\u001b[1;32m     67\u001b[0m     \u001b[39m# Let's just clear this, now.\u001b[39;00m\n\u001b[1;32m     68\u001b[0m     \u001b[39mself\u001b[39m\u001b[39m.\u001b[39m_kwargs\u001b[39m.\u001b[39mclear()\n",
      "File \u001b[0;32m~/Library/Python/3.9/lib/python/site-packages/awkward/_errors.py:78\u001b[0m, in \u001b[0;36mErrorContext.handle_exception\u001b[0;34m(self, cls, exception)\u001b[0m\n\u001b[1;32m     76\u001b[0m     \u001b[39mself\u001b[39m\u001b[39m.\u001b[39mdecorate_exception(\u001b[39mcls\u001b[39m, exception)\n\u001b[1;32m     77\u001b[0m \u001b[39melse\u001b[39;00m:\n\u001b[0;32m---> 78\u001b[0m     \u001b[39mraise\u001b[39;00m \u001b[39mself\u001b[39m\u001b[39m.\u001b[39mdecorate_exception(\u001b[39mcls\u001b[39m, exception)\n",
      "\u001b[0;31mFileNotFoundError\u001b[0m: [Errno 2] No such file or directory: 'outputOldDataBIB.json'\n\nThis error occurred while calling\n\n    ak.from_json(\n        PosixPath-instance\n    )"
     ]
    }
   ],
   "source": [
    "import json\n",
    "import awkward as ak\n",
    "import pathlib\n",
    "al = ak.from_json(pathlib.Path(\"outputOldDataBIB.json\"))"
   ]
  },
  {
   "cell_type": "code",
   "execution_count": 12,
   "metadata": {},
   "outputs": [
    {
     "name": "stdout",
     "output_type": "stream",
     "text": [
      "truth: [183] [1.5] [0.705]\n",
      "reco: [] [] [] [8]\n",
      "truth: [51.7] [1.07] [0.568]\n",
      "reco: [51.8] [1.07] [0.568] [12]\n",
      "truth: [458] [1.37] [-2.58]\n",
      "reco: [] [] [] [13]\n",
      "truth: [385] [1.36] [-2.56]\n",
      "reco: [386] [1.36] [-2.56] [17]\n",
      "truth: [492] [-0.335] [0.464]\n",
      "reco: [490] [-0.335] [0.464] [14]\n",
      "truth: [413] [0.0169] [-1.38]\n",
      "reco: [412] [0.0169] [-1.38] [17]\n",
      "truth: [22.8] [-0.686] [2.36]\n",
      "reco: [22.8] [-0.687] [2.36] [14]\n",
      "truth: [61] [0.187] [2.29]\n",
      "reco: [61] [0.187] [2.29] [16]\n"
     ]
    }
   ],
   "source": [
    "for i in range(len(al[\"mcp_pt\"])):\n",
    "    print(\"truth: \"+ str(al[\"mcp_pt\"][i]) + \" \"+ str(al[\"mcp_eta\"][i]) + \" \" + str(al[\"mcp_phi\"][i]))\n",
    "    print(\"reco: \"+ str(al[\"pfo_mu_pt\"][i]) + \" \"+ str(al[\"pfo_mu_eta\"][i]) + \" \" + str(al[\"pfo_mu_phi\"][i]) + \" \" + str(al[\"nhits\"][i]))"
   ]
  },
  {
   "cell_type": "code",
   "execution_count": null,
   "metadata": {},
   "outputs": [],
   "source": []
  }
 ],
 "metadata": {
  "kernelspec": {
   "display_name": "Python 3",
   "language": "python",
   "name": "python3"
  },
  "language_info": {
   "codemirror_mode": {
    "name": "ipython",
    "version": 3
   },
   "file_extension": ".py",
   "mimetype": "text/x-python",
   "name": "python",
   "nbconvert_exporter": "python",
   "pygments_lexer": "ipython3",
   "version": "3.9.6"
  },
  "orig_nbformat": 4
 },
 "nbformat": 4,
 "nbformat_minor": 2
}
